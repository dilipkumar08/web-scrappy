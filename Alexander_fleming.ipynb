{
 "cells": [
  {
   "cell_type": "markdown",
   "id": "e2a96069-5b3c-4229-82dd-9dbcd9ae6498",
   "metadata": {},
   "source": [
    "### Alexander Flemings\n"
   ]
  },
  {
   "cell_type": "code",
   "execution_count": 73,
   "id": "95a49f0e-d828-4d45-8945-26faba4d11a9",
   "metadata": {},
   "outputs": [],
   "source": [
    "from bs4 import BeautifulSoup\n",
    "import requests\n",
    "import pandas as pd"
   ]
  },
  {
   "cell_type": "code",
   "execution_count": 19,
   "id": "4d92e5e5-8a6f-408f-bbb2-582bf25b0f6a",
   "metadata": {},
   "outputs": [],
   "source": [
    "flem=requests.get('https://en.wikipedia.org/wiki/Alexander_Fleming')"
   ]
  },
  {
   "cell_type": "code",
   "execution_count": 22,
   "id": "9eaea5b8-cbc9-4d18-a989-5fca327d8f52",
   "metadata": {},
   "outputs": [],
   "source": [
    "content=flem.content"
   ]
  },
  {
   "cell_type": "code",
   "execution_count": 34,
   "id": "13405a3f-5d15-47c7-a994-40d5b1db108f",
   "metadata": {},
   "outputs": [],
   "source": [
    "soup=BeautifulSoup(content,'html.parser')"
   ]
  },
  {
   "cell_type": "code",
   "execution_count": 39,
   "id": "1ec564ad-b36e-48e8-a397-d274862719a8",
   "metadata": {},
   "outputs": [],
   "source": [
    "table=soup.find_all('table')[0]"
   ]
  },
  {
   "cell_type": "code",
   "execution_count": 54,
   "id": "6cea63dd-3998-4c61-a5f5-4a21b0ee48e2",
   "metadata": {},
   "outputs": [
    {
     "data": {
      "text/plain": [
       "['SirAlexander FlemingFRS FRSE FRCS',\n",
       " 'Born',\n",
       " 'Died',\n",
       " 'Resting place',\n",
       " 'Alma\\xa0mater',\n",
       " 'Known\\xa0for',\n",
       " 'Spouses',\n",
       " 'Awards',\n",
       " 'Fields',\n",
       " 'Signature']"
      ]
     },
     "execution_count": 54,
     "metadata": {},
     "output_type": "execute_result"
    }
   ],
   "source": [
    "columns=[]\n",
    "for title in table.find_all('th'):\n",
    "    columns.append(title.text.strip())\n",
    "columns"
   ]
  },
  {
   "cell_type": "code",
   "execution_count": 55,
   "id": "2a93999c-1c26-4e73-87af-9567ea2a4a26",
   "metadata": {},
   "outputs": [],
   "source": [
    "columns=[i.replace('\\xa0',' ') for i in columns]"
   ]
  },
  {
   "cell_type": "code",
   "execution_count": 57,
   "id": "70c649e1-815f-4fa4-93da-eed3edb40c4e",
   "metadata": {},
   "outputs": [
    {
     "data": {
      "text/plain": [
       "['SirAlexander FlemingFRS FRSE FRCS',\n",
       " 'Born',\n",
       " 'Died',\n",
       " 'Resting place',\n",
       " 'Alma mater',\n",
       " 'Known for',\n",
       " 'Spouses',\n",
       " 'Awards',\n",
       " 'Fields',\n",
       " 'Signature']"
      ]
     },
     "execution_count": 57,
     "metadata": {},
     "output_type": "execute_result"
    }
   ],
   "source": [
    "columns"
   ]
  },
  {
   "cell_type": "code",
   "execution_count": 70,
   "id": "997b06fe-a449-42b4-b6d3-27e2e4cb8dd4",
   "metadata": {},
   "outputs": [],
   "source": [
    "data=table.find_all('tr')\n",
    "rows=[]\n",
    "for row in data[1:]:\n",
    "    row_data=row.find_all('td')\n",
    "    rows.append([rowdata.text.strip() for rowdata in row_data])"
   ]
  },
  {
   "cell_type": "code",
   "execution_count": 76,
   "id": "cbe52277-6d5b-4442-822d-509f81d8ac90",
   "metadata": {},
   "outputs": [
    {
     "data": {
      "text/plain": [
       "['SirAlexander FlemingFRS FRSE FRCS',\n",
       " 'Born',\n",
       " 'Died',\n",
       " 'Resting place',\n",
       " 'Alma mater',\n",
       " 'Known for',\n",
       " 'Spouses',\n",
       " 'Awards',\n",
       " 'Fields',\n",
       " 'Signature']"
      ]
     },
     "execution_count": 76,
     "metadata": {},
     "output_type": "execute_result"
    }
   ],
   "source": [
    "columns"
   ]
  },
  {
   "cell_type": "code",
   "execution_count": 78,
   "id": "d33ef72a-580a-456a-86be-692f058f0584",
   "metadata": {},
   "outputs": [],
   "source": [
    "rows=rows[:-3]\n"
   ]
  },
  {
   "cell_type": "code",
   "execution_count": 80,
   "id": "358738f6-f5a8-4a7f-9b85-5a79181ead08",
   "metadata": {},
   "outputs": [
    {
     "data": {
      "text/plain": [
       "10"
      ]
     },
     "execution_count": 80,
     "metadata": {},
     "output_type": "execute_result"
    }
   ],
   "source": [
    "len(rows)"
   ]
  },
  {
   "cell_type": "code",
   "execution_count": 81,
   "id": "c00ebf84-65ec-4582-8ab7-d20872d0ecab",
   "metadata": {},
   "outputs": [],
   "source": [
    "infobox=pd.DataFrame(rows,index=columns,columns=['Data']).reset_index()"
   ]
  },
  {
   "cell_type": "code",
   "execution_count": null,
   "id": "7f78c3cc-746a-4c7b-bee8-f786924576b6",
   "metadata": {},
   "outputs": [],
   "source": []
  }
 ],
 "metadata": {
  "kernelspec": {
   "display_name": "Python 3 (ipykernel)",
   "language": "python",
   "name": "python3"
  },
  "language_info": {
   "codemirror_mode": {
    "name": "ipython",
    "version": 3
   },
   "file_extension": ".py",
   "mimetype": "text/x-python",
   "name": "python",
   "nbconvert_exporter": "python",
   "pygments_lexer": "ipython3",
   "version": "3.12.2"
  }
 },
 "nbformat": 4,
 "nbformat_minor": 5
}
